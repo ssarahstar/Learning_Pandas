{
 "cells": [
  {
   "cell_type": "code",
   "execution_count": 30,
   "id": "75490b1a",
   "metadata": {},
   "outputs": [],
   "source": [
    "import numpy as np\n",
    "import pandas as pd\n",
    "\n",
    "import datetime\n",
    "from datetime import datetime, date\n",
    "\n",
    "pd.set_option('display.notebook_repr_html', False)\n",
    "pd.set_option('display.max_columns', 7)\n",
    "pd.set_option('display.max_rows', 10)\n",
    "pd.set_option('display.width', 60)\n",
    "\n",
    "sp500 = pd.read_csv(\"../data/sp500.csv\", \n",
    "                    index_col='Symbol', \n",
    "                    usecols=[0, 2, 3, 7])"
   ]
  },
  {
   "cell_type": "code",
   "execution_count": 31,
   "id": "937d07ae",
   "metadata": {},
   "outputs": [
    {
     "data": {
      "text/plain": [
       "             Sector   Price  BookValue\n",
       "Symbol                                \n",
       "MMM     Industrials  141.14     26.668\n",
       "ABT     Health Care   39.60     15.573"
      ]
     },
     "execution_count": 31,
     "metadata": {},
     "output_type": "execute_result"
    }
   ],
   "source": [
    "newSP500 = sp500.rename(columns=\n",
    "                        {'Book Value': 'BookValue'})\n",
    "newSP500[:2]"
   ]
  },
  {
   "cell_type": "code",
   "execution_count": 32,
   "id": "0b61b11d",
   "metadata": {},
   "outputs": [
    {
     "data": {
      "text/plain": [
       "Index(['Sector', 'Price', 'Book Value'], dtype='object')"
      ]
     },
     "execution_count": 32,
     "metadata": {},
     "output_type": "execute_result"
    }
   ],
   "source": [
    "sp500.columns\n",
    "#칼럼명 변경 x"
   ]
  },
  {
   "cell_type": "code",
   "execution_count": 33,
   "id": "a80cf4ed",
   "metadata": {},
   "outputs": [
    {
     "data": {
      "text/plain": [
       "Index(['Sector', 'Price', 'BookValue'], dtype='object')"
      ]
     },
     "execution_count": 33,
     "metadata": {},
     "output_type": "execute_result"
    }
   ],
   "source": [
    "sp500.rename(columns=                  \n",
    "             {'Book Value': 'BookValue'},                   \n",
    "             inplace=True)\n",
    "sp500.columns"
   ]
  },
  {
   "cell_type": "code",
   "execution_count": 34,
   "id": "123ab508",
   "metadata": {},
   "outputs": [
    {
     "data": {
      "text/plain": [
       "Symbol\n",
       "MMM     26.668\n",
       "ABT     15.573\n",
       "ABBV     2.954\n",
       "ACN      8.326\n",
       "ACE     86.897\n",
       "Name: BookValue, dtype: float64"
      ]
     },
     "execution_count": 34,
     "metadata": {},
     "output_type": "execute_result"
    }
   ],
   "source": [
    "sp500.BookValue[:5]"
   ]
  },
  {
   "cell_type": "code",
   "execution_count": 35,
   "id": "fac96b29",
   "metadata": {},
   "outputs": [
    {
     "data": {
      "text/plain": [
       "             Sector   Price  BookValue  RoundedPrice\n",
       "Symbol                                              \n",
       "MMM     Industrials  141.14     26.668         141.0\n",
       "ABT     Health Care   39.60     15.573          40.0"
      ]
     },
     "execution_count": 35,
     "metadata": {},
     "output_type": "execute_result"
    }
   ],
   "source": [
    "sp500_copy = sp500.copy()\n",
    "#카피 함수를 통해 추가\n",
    "sp500_copy['RoundedPrice'] = sp500.Price.round()\n",
    "#round함수_소수자리 제거_정수형으로 변환하는 것은 아님\n",
    "#새로운 칼럼으로 추가\n",
    "#반올림 처리\n",
    "sp500_copy[:2]\n",
    "#type int함수 공부"
   ]
  },
  {
   "cell_type": "code",
   "execution_count": 36,
   "id": "8410e504",
   "metadata": {},
   "outputs": [
    {
     "data": {
      "text/plain": [
       "             Sector  RoundedPrice   Price  BookValue\n",
       "Symbol                                              \n",
       "MMM     Industrials         141.0  141.14     26.668\n",
       "ABT     Health Care          40.0   39.60     15.573"
      ]
     },
     "execution_count": 36,
     "metadata": {},
     "output_type": "execute_result"
    }
   ],
   "source": [
    "copy = sp500.copy()\n",
    "\n",
    "copy.insert(1, 'RoundedPrice', sp500.Price.round())\n",
    "copy[:2]"
   ]
  },
  {
   "cell_type": "code",
   "execution_count": 37,
   "id": "07530ff4",
   "metadata": {},
   "outputs": [
    {
     "data": {
      "text/plain": [
       "             Sector   Price  BookValue  PER\n",
       "Symbol                                     \n",
       "MMM     Industrials  141.14     26.668    0\n",
       "ABT     Health Care   39.60     15.573    0\n",
       "ABBV    Health Care   53.95      2.954    0"
      ]
     },
     "execution_count": 37,
     "metadata": {},
     "output_type": "execute_result"
    }
   ],
   "source": [
    "ss = sp500[:3].copy()\n",
    "ss.loc[:,'PER'] = 0\n",
    "ss"
   ]
  },
  {
   "cell_type": "code",
   "execution_count": 38,
   "id": "e366b5ba",
   "metadata": {},
   "outputs": [
    {
     "data": {
      "text/plain": [
       "             Sector   Price  BookValue       PER\n",
       "Symbol                                          \n",
       "MMM     Industrials  141.14     26.668  0.469112\n",
       "ABT     Health Care   39.60     15.573 -0.282863\n",
       "ABBV    Health Care   53.95      2.954 -1.509059"
      ]
     },
     "execution_count": 38,
     "metadata": {},
     "output_type": "execute_result"
    }
   ],
   "source": [
    "ss = sp500[:3].copy()\n",
    "np.random.seed(123456)\n",
    "ss.loc[:,'PER'] = pd.Series(np.random.normal(size=3), index=ss.index)\n",
    "ss"
   ]
  },
  {
   "cell_type": "code",
   "execution_count": 39,
   "id": "18315f90",
   "metadata": {},
   "outputs": [
    {
     "data": {
      "text/plain": [
       "        RoundedPrice\n",
       "Symbol              \n",
       "MMM            141.0\n",
       "ABT             40.0\n",
       "ABBV            54.0\n",
       "ACN             80.0\n",
       "ACE            103.0\n",
       "...              ...\n",
       "YHOO            35.0\n",
       "YUM             75.0\n",
       "ZMH            102.0\n",
       "ZION            28.0\n",
       "ZTS             31.0\n",
       "\n",
       "[500 rows x 1 columns]"
      ]
     },
     "execution_count": 39,
     "metadata": {},
     "output_type": "execute_result"
    }
   ],
   "source": [
    "#접합을 통한 칼럼 추가\n",
    "rounded_price = pd.DataFrame({'RoundedPrice':    \n",
    "                              sp500.Price.round()})\n",
    "rounded_price"
   ]
  },
  {
   "cell_type": "code",
   "execution_count": 40,
   "id": "4abcd3e2",
   "metadata": {},
   "outputs": [
    {
     "data": {
      "text/plain": [
       "                        Sector   Price  BookValue\n",
       "Symbol                                           \n",
       "MMM                Industrials  141.14     26.668\n",
       "ABT                Health Care   39.60     15.573\n",
       "ABBV               Health Care   53.95      2.954\n",
       "ACN     Information Technology   79.79      8.326\n",
       "ACE                 Financials  102.91     86.897"
      ]
     },
     "execution_count": 40,
     "metadata": {},
     "output_type": "execute_result"
    }
   ],
   "source": [
    "pd.concat([sp500, rounded_price], axis=1)\n",
    "sp500[:5]\n",
    "#접합해도 결과 확인 안됨"
   ]
  },
  {
   "cell_type": "code",
   "execution_count": 41,
   "id": "7081b07c",
   "metadata": {},
   "outputs": [
    {
     "data": {
      "text/plain": [
       "                        Sector   Price  BookValue  \\\n",
       "Symbol                                              \n",
       "MMM                Industrials  141.14     26.668   \n",
       "ABT                Health Care   39.60     15.573   \n",
       "ABBV               Health Care   53.95      2.954   \n",
       "ACN     Information Technology   79.79      8.326   \n",
       "ACE                 Financials  102.91     86.897   \n",
       "\n",
       "        RoundedPrice  \n",
       "Symbol                \n",
       "MMM            141.0  \n",
       "ABT             40.0  \n",
       "ABBV            54.0  \n",
       "ACN             80.0  \n",
       "ACE            103.0  "
      ]
     },
     "execution_count": 41,
     "metadata": {},
     "output_type": "execute_result"
    }
   ],
   "source": [
    "concatenated = pd.concat([sp500, rounded_price], axis=1)\n",
    "concatenated[:5]"
   ]
  },
  {
   "cell_type": "code",
   "execution_count": 42,
   "id": "13803352",
   "metadata": {},
   "outputs": [
    {
     "data": {
      "text/plain": [
       "        Price\n",
       "Symbol       \n",
       "MMM     141.0\n",
       "ABT      40.0\n",
       "ABBV     54.0\n",
       "ACN      80.0\n",
       "ACE     103.0"
      ]
     },
     "execution_count": 42,
     "metadata": {},
     "output_type": "execute_result"
    }
   ],
   "source": [
    "rounded_price = pd.DataFrame({'Price': sp500.Price.round()})\n",
    "rounded_price[:5]"
   ]
  },
  {
   "cell_type": "code",
   "execution_count": 43,
   "id": "5e54a143",
   "metadata": {},
   "outputs": [
    {
     "data": {
      "text/plain": [
       "                        Sector   Price  BookValue  Price\n",
       "Symbol                                                  \n",
       "MMM                Industrials  141.14     26.668  141.0\n",
       "ABT                Health Care   39.60     15.573   40.0\n",
       "ABBV               Health Care   53.95      2.954   54.0\n",
       "ACN     Information Technology   79.79      8.326   80.0\n",
       "ACE                 Financials  102.91     86.897  103.0\n",
       "...                        ...     ...        ...    ...\n",
       "YHOO    Information Technology   35.02     12.768   35.0\n",
       "YUM     Consumer Discretionary   74.77      5.147   75.0\n",
       "ZMH                Health Care  101.84     37.181  102.0\n",
       "ZION                Financials   28.43     30.191   28.0\n",
       "ZTS                Health Care   30.53      2.150   31.0\n",
       "\n",
       "[500 rows x 4 columns]"
      ]
     },
     "execution_count": 43,
     "metadata": {},
     "output_type": "execute_result"
    }
   ],
   "source": [
    "dups = pd.concat([sp500, rounded_price], axis=1)\n",
    "dups\n",
    "#접합"
   ]
  },
  {
   "cell_type": "code",
   "execution_count": 44,
   "id": "17406cb2",
   "metadata": {},
   "outputs": [
    {
     "data": {
      "text/plain": [
       "         Price  Price\n",
       "Symbol               \n",
       "MMM     141.14  141.0\n",
       "ABT      39.60   40.0\n",
       "ABBV     53.95   54.0\n",
       "ACN      79.79   80.0\n",
       "ACE     102.91  103.0"
      ]
     },
     "execution_count": 44,
     "metadata": {},
     "output_type": "execute_result"
    }
   ],
   "source": [
    "dups.Price[:5]"
   ]
  },
  {
   "cell_type": "code",
   "execution_count": 45,
   "id": "39dd40f0",
   "metadata": {},
   "outputs": [
    {
     "data": {
      "text/plain": [
       "Symbol\n",
       "MMM     141.0\n",
       "ABT      40.0\n",
       "ABBV     54.0\n",
       "ACN      80.0\n",
       "ACE     103.0\n",
       "        ...  \n",
       "YHOO     35.0\n",
       "YUM      75.0\n",
       "ZMH     102.0\n",
       "ZION     28.0\n",
       "ZTS      31.0\n",
       "Name: Price, Length: 500, dtype: float64"
      ]
     },
     "execution_count": 45,
     "metadata": {},
     "output_type": "execute_result"
    }
   ],
   "source": [
    "dups.iloc[:,3]"
   ]
  },
  {
   "cell_type": "code",
   "execution_count": 46,
   "id": "0e835f67",
   "metadata": {},
   "outputs": [
    {
     "data": {
      "text/plain": [
       "        BookValue   Price                  Sector\n",
       "Symbol                                           \n",
       "MMM        26.668  141.14             Industrials\n",
       "ABT        15.573   39.60             Health Care\n",
       "ABBV        2.954   53.95             Health Care\n",
       "ACN         8.326   79.79  Information Technology\n",
       "ACE        86.897  102.91              Financials"
      ]
     },
     "execution_count": 46,
     "metadata": {},
     "output_type": "execute_result"
    }
   ],
   "source": [
    "reversed_column_names = sp500.columns[::-1]\n",
    "sp500[reversed_column_names][:5]"
   ]
  },
  {
   "cell_type": "code",
   "execution_count": 47,
   "id": "ef70d33e",
   "metadata": {},
   "outputs": [
    {
     "data": {
      "text/plain": [
       "Index(['BookValue', 'Price', 'Sector'], dtype='object')"
      ]
     },
     "execution_count": 47,
     "metadata": {},
     "output_type": "execute_result"
    }
   ],
   "source": [
    "reversed_column_names\n",
    "#인덱스 값"
   ]
  },
  {
   "cell_type": "code",
   "execution_count": 48,
   "id": "5b7eedd7",
   "metadata": {},
   "outputs": [
    {
     "data": {
      "text/plain": [
       "                        Sector  Price  BookValue\n",
       "Symbol                                          \n",
       "MMM                Industrials  141.0     26.668\n",
       "ABT                Health Care   40.0     15.573\n",
       "ABBV               Health Care   54.0      2.954\n",
       "ACN     Information Technology   80.0      8.326\n",
       "ACE                 Financials  103.0     86.897"
      ]
     },
     "execution_count": 48,
     "metadata": {},
     "output_type": "execute_result"
    }
   ],
   "source": [
    "copy = sp500.copy()\n",
    "copy.Price = rounded_price.Price\n",
    "copy[:5]"
   ]
  },
  {
   "cell_type": "code",
   "execution_count": 49,
   "id": "884a8a27",
   "metadata": {},
   "outputs": [
    {
     "data": {
      "text/plain": [
       "                        Sector  Price  BookValue\n",
       "Symbol                                          \n",
       "MMM                Industrials  141.0     26.668\n",
       "ABT                Health Care   40.0     15.573\n",
       "ABBV               Health Care   54.0      2.954\n",
       "ACN     Information Technology   80.0      8.326\n",
       "ACE                 Financials  103.0     86.897"
      ]
     },
     "execution_count": 49,
     "metadata": {},
     "output_type": "execute_result"
    }
   ],
   "source": [
    "copy=sp500.copy()\n",
    "copy.loc[:,'Price'] = rounded_price.Price\n",
    "copy[:5]"
   ]
  },
  {
   "cell_type": "code",
   "execution_count": 50,
   "id": "a00767ed",
   "metadata": {},
   "outputs": [
    {
     "data": {
      "text/plain": [
       "             Sector   Price\n",
       "Symbol                     \n",
       "MMM     Industrials  141.14\n",
       "ABT     Health Care   39.60"
      ]
     },
     "execution_count": 50,
     "metadata": {},
     "output_type": "execute_result"
    }
   ],
   "source": [
    "copy = sp500.copy()\n",
    "del copy['BookValue']\n",
    "copy[:2]\n",
    "#삭제와 관련된 키워드 3가지\n",
    "#시험 문제 필수"
   ]
  },
  {
   "cell_type": "code",
   "execution_count": 51,
   "id": "55d71cb9",
   "metadata": {},
   "outputs": [
    {
     "data": {
      "text/plain": [
       "         Price  BookValue\n",
       "Symbol                   \n",
       "MMM     141.14     26.668\n",
       "ABT      39.60     15.573"
      ]
     },
     "execution_count": 51,
     "metadata": {},
     "output_type": "execute_result"
    }
   ],
   "source": [
    "copy = sp500.copy()\n",
    "\n",
    "popped=copy.pop('Sector')\n",
    "#삭제된 부분을 새로운 객체로 형성\n",
    "#칼럼을 분리시킬 때 사용\n",
    "copy[:2]"
   ]
  },
  {
   "cell_type": "code",
   "execution_count": 52,
   "id": "941703f0",
   "metadata": {},
   "outputs": [
    {
     "data": {
      "text/plain": [
       "Symbol\n",
       "MMM                Industrials\n",
       "ABT                Health Care\n",
       "ABBV               Health Care\n",
       "ACN     Information Technology\n",
       "ACE                 Financials\n",
       "Name: Sector, dtype: object"
      ]
     },
     "execution_count": 52,
     "metadata": {},
     "output_type": "execute_result"
    }
   ],
   "source": [
    "popped[:5]\n",
    "#즉석에서 Series를 삭제한 후 삭제한 Series를 반환"
   ]
  },
  {
   "cell_type": "code",
   "execution_count": 53,
   "id": "a81b4689",
   "metadata": {},
   "outputs": [
    {
     "data": {
      "text/plain": [
       "         Price  BookValue\n",
       "Symbol                   \n",
       "MMM     141.14     26.668\n",
       "ABT      39.60     15.573\n",
       "ABBV     53.95      2.954\n",
       "ACN      79.79      8.326\n",
       "ACE     102.91     86.897"
      ]
     },
     "execution_count": 53,
     "metadata": {},
     "output_type": "execute_result"
    }
   ],
   "source": [
    "copy = sp500.copy()\n",
    "\n",
    "afterdrop = copy.drop(['Sector'], axis = 1)\n",
    "#drop함수 복사본을 반환, 열이나 행 원하는 값의 위치 달라짐\n",
    "#원본에 영향을 주지 않음\n",
    "afterdrop[:5]\n",
    "#copy[:2]"
   ]
  },
  {
   "cell_type": "code",
   "execution_count": 56,
   "id": "a8165445",
   "metadata": {},
   "outputs": [
    {
     "data": {
      "text/plain": [
       "                        Sector   Price  BookValue\n",
       "Symbol                                           \n",
       "ABT                Health Care   39.60     15.573\n",
       "ABBV               Health Care   53.95      2.954\n",
       "ACE                 Financials  102.91     86.897\n",
       "ACT                Health Care  213.77     55.188\n",
       "ADBE    Information Technology   64.30     13.262\n",
       "...                        ...     ...        ...\n",
       "YHOO    Information Technology   35.02     12.768\n",
       "YUM     Consumer Discretionary   74.77      5.147\n",
       "ZMH                Health Care  101.84     37.181\n",
       "ZION                Financials   28.43     30.191\n",
       "ZTS                Health Care   30.53      2.150\n",
       "\n",
       "[498 rows x 3 columns]"
      ]
     },
     "execution_count": 56,
     "metadata": {},
     "output_type": "execute_result"
    }
   ],
   "source": [
    "copy = sp500.copy()\n",
    "copy1=copy.drop(['MMM','ACN'],axis=0)\n",
    "copy1"
   ]
  }
 ],
 "metadata": {
  "kernelspec": {
   "display_name": "Python 3 (ipykernel)",
   "language": "python",
   "name": "python3"
  },
  "language_info": {
   "codemirror_mode": {
    "name": "ipython",
    "version": 3
   },
   "file_extension": ".py",
   "mimetype": "text/x-python",
   "name": "python",
   "nbconvert_exporter": "python",
   "pygments_lexer": "ipython3",
   "version": "3.9.12"
  }
 },
 "nbformat": 4,
 "nbformat_minor": 5
}
