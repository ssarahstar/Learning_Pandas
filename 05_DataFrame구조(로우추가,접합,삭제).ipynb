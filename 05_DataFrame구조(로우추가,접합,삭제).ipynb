{
 "cells": [
  {
   "cell_type": "code",
   "execution_count": 2,
   "id": "247b26f0",
   "metadata": {},
   "outputs": [],
   "source": [
    "import numpy as np\n",
    "import pandas as pd\n",
    "\n",
    "import datetime\n",
    "from datetime import datetime, date\n",
    "\n",
    "pd.set_option('display.notebook_repr_html', False)\n",
    "pd.set_option('display.max_columns', 7)\n",
    "pd.set_option('display.max_rows', 10)\n",
    "pd.set_option('display.width', 60)\n",
    "\n",
    "import matplotlib.pyplot as plt\n",
    "%matplotlib inline\n",
    "\n",
    "sp500 = pd.read_csv(\"../data/sp500.csv\", \n",
    "                    index_col='Symbol', \n",
    "                    usecols=[0, 2, 3, 7])"
   ]
  },
  {
   "cell_type": "code",
   "execution_count": 2,
   "id": "49cb75eb",
   "metadata": {},
   "outputs": [
    {
     "name": "stderr",
     "output_type": "stream",
     "text": [
      "/var/folders/hr/wkvs6s0n6mvdn97bzn837jpw0000gn/T/ipykernel_37652/1893383463.py:3: FutureWarning: The frame.append method is deprecated and will be removed from pandas in a future version. Use pandas.concat instead.\n",
      "  appended = df1.append(df2)\n"
     ]
    },
    {
     "data": {
      "text/plain": [
       "             Sector   Price  Book Value\n",
       "Symbol                                 \n",
       "MMM     Industrials  141.14      26.668\n",
       "ABT     Health Care   39.60      15.573\n",
       "ABBV    Health Care   53.95       2.954\n",
       "A       Health Care   56.18      16.928\n",
       "GAS       Utilities   52.98      32.462\n",
       "ABBV    Health Care   53.95       2.954"
      ]
     },
     "execution_count": 2,
     "metadata": {},
     "output_type": "execute_result"
    }
   ],
   "source": [
    "df1 = sp500.iloc[0:3].copy()\n",
    "df2 = sp500.iloc[[10, 11, 2]]\n",
    "appended = df1.append(df2)\n",
    "\n",
    "appended"
   ]
  },
  {
   "cell_type": "code",
   "execution_count": 3,
   "id": "bb480430",
   "metadata": {},
   "outputs": [
    {
     "data": {
      "text/plain": [
       "        PER\n",
       "Symbol     \n",
       "MMM     0.0\n",
       "ABT     0.0\n",
       "ABBV    0.0"
      ]
     },
     "execution_count": 3,
     "metadata": {},
     "output_type": "execute_result"
    }
   ],
   "source": [
    "df3 = pd.DataFrame(0.0, \n",
    "                   index=df1.index,\n",
    "                   columns=['PER'])\n",
    "df3"
   ]
  },
  {
   "cell_type": "code",
   "execution_count": 4,
   "id": "dad4b906",
   "metadata": {},
   "outputs": [
    {
     "data": {
      "text/plain": [
       "             Sector   Price  Book Value\n",
       "Symbol                                 \n",
       "MMM     Industrials  141.14      26.668\n",
       "ABT     Health Care   39.60      15.573\n",
       "ABBV    Health Care   53.95       2.954"
      ]
     },
     "execution_count": 4,
     "metadata": {},
     "output_type": "execute_result"
    }
   ],
   "source": [
    "df1"
   ]
  },
  {
   "cell_type": "code",
   "execution_count": 5,
   "id": "6b3bbfc4",
   "metadata": {},
   "outputs": [
    {
     "name": "stderr",
     "output_type": "stream",
     "text": [
      "/var/folders/hr/wkvs6s0n6mvdn97bzn837jpw0000gn/T/ipykernel_37652/2993192114.py:1: FutureWarning: The frame.append method is deprecated and will be removed from pandas in a future version. Use pandas.concat instead.\n",
      "  df1.append(df3)\n"
     ]
    },
    {
     "data": {
      "text/plain": [
       "             Sector   Price  Book Value  PER\n",
       "Symbol                                      \n",
       "MMM     Industrials  141.14      26.668  NaN\n",
       "ABT     Health Care   39.60      15.573  NaN\n",
       "ABBV    Health Care   53.95       2.954  NaN\n",
       "MMM             NaN     NaN         NaN  0.0\n",
       "ABT             NaN     NaN         NaN  0.0\n",
       "ABBV            NaN     NaN         NaN  0.0"
      ]
     },
     "execution_count": 5,
     "metadata": {},
     "output_type": "execute_result"
    }
   ],
   "source": [
    "df1.append(df3)"
   ]
  },
  {
   "cell_type": "code",
   "execution_count": 6,
   "id": "39ff20f5",
   "metadata": {},
   "outputs": [
    {
     "name": "stderr",
     "output_type": "stream",
     "text": [
      "/var/folders/hr/wkvs6s0n6mvdn97bzn837jpw0000gn/T/ipykernel_37652/2634890744.py:1: FutureWarning: The frame.append method is deprecated and will be removed from pandas in a future version. Use pandas.concat instead.\n",
      "  df1.append(df3, ignore_index=True)\n"
     ]
    },
    {
     "data": {
      "text/plain": [
       "        Sector   Price  Book Value  PER\n",
       "0  Industrials  141.14      26.668  NaN\n",
       "1  Health Care   39.60      15.573  NaN\n",
       "2  Health Care   53.95       2.954  NaN\n",
       "3          NaN     NaN         NaN  0.0\n",
       "4          NaN     NaN         NaN  0.0\n",
       "5          NaN     NaN         NaN  0.0"
      ]
     },
     "execution_count": 6,
     "metadata": {},
     "output_type": "execute_result"
    }
   ],
   "source": [
    "df1.append(df3, ignore_index=True)"
   ]
  },
  {
   "cell_type": "code",
   "execution_count": 7,
   "id": "a56554c0",
   "metadata": {},
   "outputs": [
    {
     "data": {
      "text/plain": [
       "             Sector   Price  Book Value\n",
       "Symbol                                 \n",
       "MMM     Industrials  141.14      26.668\n",
       "ABT     Health Care   39.60      15.573\n",
       "ABBV    Health Care   53.95       2.954\n",
       "A       Health Care   56.18      16.928\n",
       "GAS       Utilities   52.98      32.462\n",
       "ABBV    Health Care   53.95       2.954"
      ]
     },
     "execution_count": 7,
     "metadata": {},
     "output_type": "execute_result"
    }
   ],
   "source": [
    "df1 = sp500.iloc[0:3].copy()\n",
    "df2 = sp500.iloc[[10, 11, 2]]\n",
    "pd.concat([df1, df2])\n",
    "#접합함수"
   ]
  },
  {
   "cell_type": "code",
   "execution_count": 8,
   "id": "91478cdb",
   "metadata": {},
   "outputs": [
    {
     "name": "stderr",
     "output_type": "stream",
     "text": [
      "/var/folders/hr/wkvs6s0n6mvdn97bzn837jpw0000gn/T/ipykernel_37652/919649917.py:3: FutureWarning: The frame.append method is deprecated and will be removed from pandas in a future version. Use pandas.concat instead.\n",
      "  append=df1.append(df2)\n"
     ]
    },
    {
     "data": {
      "text/plain": [
       "             Sector   Price  Book Value\n",
       "Symbol                                 \n",
       "MMM     Industrials  141.14      26.668\n",
       "ABT     Health Care   39.60      15.573\n",
       "ABBV    Health Care   53.95       2.954\n",
       "A       Health Care   56.18      16.928\n",
       "GAS       Utilities   52.98      32.462\n",
       "ABBV    Health Care   53.95       2.954"
      ]
     },
     "execution_count": 8,
     "metadata": {},
     "output_type": "execute_result"
    }
   ],
   "source": [
    "df1 = sp500.iloc[0:3].copy()\n",
    "df2 = sp500.iloc[[10, 11, 2]]\n",
    "append=df1.append(df2)\n",
    "append"
   ]
  },
  {
   "cell_type": "code",
   "execution_count": 9,
   "id": "a0e5320b",
   "metadata": {},
   "outputs": [
    {
     "data": {
      "text/plain": [
       "             Sector  Price  Book Value  Foo\n",
       "Symbol                                     \n",
       "A       Health Care  56.18      16.928    0\n",
       "GAS       Utilities  52.98      32.462    0\n",
       "ABBV    Health Care  53.95       2.954    0"
      ]
     },
     "execution_count": 9,
     "metadata": {},
     "output_type": "execute_result"
    }
   ],
   "source": [
    "df2_2 = df2.copy()\n",
    "df2_2.insert(3, 'Foo', pd.Series(0, index=df2.index))\n",
    "df2_2\n",
    "#insert는 원본에 반영됨"
   ]
  },
  {
   "cell_type": "code",
   "execution_count": 10,
   "id": "c073ef81",
   "metadata": {},
   "outputs": [
    {
     "data": {
      "text/plain": [
       "             Sector   Price  Book Value  Foo\n",
       "Symbol                                      \n",
       "MMM     Industrials  141.14      26.668  NaN\n",
       "ABT     Health Care   39.60      15.573  NaN\n",
       "ABBV    Health Care   53.95       2.954  NaN\n",
       "A       Health Care   56.18      16.928  0.0\n",
       "GAS       Utilities   52.98      32.462  0.0\n",
       "ABBV    Health Care   53.95       2.954  0.0"
      ]
     },
     "execution_count": 10,
     "metadata": {},
     "output_type": "execute_result"
    }
   ],
   "source": [
    "pd.concat([df1, df2_2],sort=False)"
   ]
  },
  {
   "cell_type": "code",
   "execution_count": 11,
   "id": "891dc73d",
   "metadata": {},
   "outputs": [
    {
     "data": {
      "text/plain": [
       "        Book Value  Foo   Price       Sector\n",
       "Symbol                                      \n",
       "MMM         26.668  NaN  141.14  Industrials\n",
       "ABT         15.573  NaN   39.60  Health Care\n",
       "ABBV         2.954  NaN   53.95  Health Care\n",
       "A           16.928  0.0   56.18  Health Care\n",
       "GAS         32.462  0.0   52.98    Utilities\n",
       "ABBV         2.954  0.0   53.95  Health Care"
      ]
     },
     "execution_count": 11,
     "metadata": {},
     "output_type": "execute_result"
    }
   ],
   "source": [
    "pd.concat([df1, df2_2],sort=True)"
   ]
  },
  {
   "cell_type": "code",
   "execution_count": 12,
   "id": "9f9dfd32",
   "metadata": {},
   "outputs": [
    {
     "data": {
      "text/plain": [
       "                 Sector   Price  Book Value  Foo\n",
       "    Symbol                                      \n",
       "df1 MMM     Industrials  141.14      26.668  NaN\n",
       "    ABT     Health Care   39.60      15.573  NaN\n",
       "    ABBV    Health Care   53.95       2.954  NaN\n",
       "df2 A       Health Care   56.18      16.928  0.0\n",
       "    GAS       Utilities   52.98      32.462  0.0\n",
       "    ABBV    Health Care   53.95       2.954  0.0"
      ]
     },
     "execution_count": 12,
     "metadata": {},
     "output_type": "execute_result"
    }
   ],
   "source": [
    "r = pd.concat([df1, df2_2], keys=['df1', 'df2'])\n",
    "r"
   ]
  },
  {
   "cell_type": "code",
   "execution_count": 13,
   "id": "54ac1a38",
   "metadata": {},
   "outputs": [
    {
     "data": {
      "text/plain": [
       "             Sector   Price  Book Value\n",
       "Symbol                                 \n",
       "MMM     Industrials  141.14      26.668\n",
       "ABT     Health Care   39.60      15.573\n",
       "ABBV    Health Care   53.95       2.954\n",
       "FOO      the sector  100.00     110.000"
      ]
     },
     "execution_count": 13,
     "metadata": {},
     "output_type": "execute_result"
    }
   ],
   "source": [
    "ss = sp500[:3].copy()\n",
    "ss.loc['FOO'] = ['the sector', 100, 110]\n",
    "ss"
   ]
  },
  {
   "cell_type": "code",
   "execution_count": 14,
   "id": "f388a4d3",
   "metadata": {},
   "outputs": [
    {
     "data": {
      "text/plain": [
       "             Sector   Price  Book Value\n",
       "Symbol                                 \n",
       "MMM     Industrials  141.14      26.668\n",
       "ABT     Health Care   39.60      15.573\n",
       "ABBV    Health Care   53.95       2.954\n",
       "FOO      the sector  100.00     110.000\n",
       "WWW      the sector  100.00     110.000"
      ]
     },
     "execution_count": 14,
     "metadata": {},
     "output_type": "execute_result"
    }
   ],
   "source": [
    "ss.loc['WWW']=['the sector',100,110]\n",
    "ss"
   ]
  },
  {
   "cell_type": "code",
   "execution_count": 15,
   "id": "8af99554",
   "metadata": {},
   "outputs": [
    {
     "data": {
      "text/plain": [
       "                        Sector   Price  Book Value\n",
       "Symbol                                            \n",
       "MMM                Industrials  141.14      26.668\n",
       "ABT                Health Care   39.60      15.573\n",
       "ABBV               Health Care   53.95       2.954\n",
       "ACN     Information Technology   79.79       8.326\n",
       "ACE                 Financials  102.91      86.897"
      ]
     },
     "execution_count": 15,
     "metadata": {},
     "output_type": "execute_result"
    }
   ],
   "source": [
    "ss = sp500[:5]\n",
    "ss"
   ]
  },
  {
   "cell_type": "code",
   "execution_count": 16,
   "id": "4b732727",
   "metadata": {},
   "outputs": [
    {
     "data": {
      "text/plain": [
       "             Sector   Price  Book Value\n",
       "Symbol                                 \n",
       "MMM     Industrials  141.14      26.668\n",
       "ABBV    Health Care   53.95       2.954\n",
       "ACE      Financials  102.91      86.897"
      ]
     },
     "execution_count": 16,
     "metadata": {},
     "output_type": "execute_result"
    }
   ],
   "source": [
    "afterdrop = ss.drop(['ABT', 'ACN'])\n",
    "afterdrop[:5]"
   ]
  },
  {
   "cell_type": "code",
   "execution_count": 6,
   "id": "71acbdef",
   "metadata": {},
   "outputs": [
    {
     "data": {
      "text/plain": [
       "Symbol\n",
       "MMM     False\n",
       "ABT     False\n",
       "ABBV    False\n",
       "ACN     False\n",
       "ACE     False\n",
       "        ...  \n",
       "YHOO    False\n",
       "YUM     False\n",
       "ZMH     False\n",
       "ZION    False\n",
       "ZTS     False\n",
       "Name: Price, Length: 500, dtype: bool"
      ]
     },
     "execution_count": 6,
     "metadata": {},
     "output_type": "execute_result"
    }
   ],
   "source": [
    "selection=sp500.Price > 300\n",
    "#(len(selection), selection.sum())\n",
    "selection\n",
    "#Bool형"
   ]
  },
  {
   "cell_type": "code",
   "execution_count": 18,
   "id": "efb7c8d6",
   "metadata": {},
   "outputs": [
    {
     "data": {
      "text/plain": [
       "                        Sector   Price  Book Value\n",
       "Symbol                                            \n",
       "MMM                Industrials  141.14      26.668\n",
       "ABT                Health Care   39.60      15.573\n",
       "ABBV               Health Care   53.95       2.954\n",
       "ACN     Information Technology   79.79       8.326\n",
       "ACE                 Financials  102.91      86.897\n",
       "...                        ...     ...         ...\n",
       "YHOO    Information Technology   35.02      12.768\n",
       "YUM     Consumer Discretionary   74.77       5.147\n",
       "ZMH                Health Care  101.84      37.181\n",
       "ZION                Financials   28.43      30.191\n",
       "ZTS                Health Care   30.53       2.150\n",
       "\n",
       "[490 rows x 3 columns]"
      ]
     },
     "execution_count": 18,
     "metadata": {},
     "output_type": "execute_result"
    }
   ],
   "source": [
    "price_less_than_300 = sp500[~selection]\n",
    "price_less_than_300"
   ]
  },
  {
   "cell_type": "code",
   "execution_count": 19,
   "id": "b8072eec",
   "metadata": {},
   "outputs": [
    {
     "data": {
      "text/plain": [
       "             Sector   Price  Book Value\n",
       "Symbol                                 \n",
       "MMM     Industrials  141.14      26.668\n",
       "ABT     Health Care   39.60      15.573\n",
       "ABBV    Health Care   53.95       2.954"
      ]
     },
     "execution_count": 19,
     "metadata": {},
     "output_type": "execute_result"
    }
   ],
   "source": [
    "only_first_three = sp500[:3]\n",
    "only_first_three"
   ]
  },
  {
   "cell_type": "code",
   "execution_count": 20,
   "id": "b31d129b",
   "metadata": {},
   "outputs": [
    {
     "data": {
      "text/plain": [
       "             Sector   Price  Book Value\n",
       "Symbol                                 \n",
       "MMM     Industrials  141.14      26.668\n",
       "ABT     Health Care   39.60      15.573\n",
       "ABBV    Health Care   53.95       2.954"
      ]
     },
     "execution_count": 20,
     "metadata": {},
     "output_type": "execute_result"
    }
   ],
   "source": [
    "only_first_three = sp500[:3].copy()\n",
    "only_first_three"
   ]
  },
  {
   "cell_type": "code",
   "execution_count": 21,
   "id": "b54540e3",
   "metadata": {},
   "outputs": [
    {
     "data": {
      "text/plain": [
       "        foo  key\n",
       "0  0.126970  100\n",
       "1  0.966718  101\n",
       "2  0.260476  102\n",
       "3  0.897237  103\n",
       "4  0.376750  104"
      ]
     },
     "execution_count": 21,
     "metadata": {},
     "output_type": "execute_result"
    }
   ],
   "source": [
    "np.random.seed(123456)\n",
    "df = pd.DataFrame({'foo':np.random.random(10000), 'key':range(100, 10100)})\n",
    "df[:5]"
   ]
  },
  {
   "cell_type": "code",
   "execution_count": 23,
   "id": "8734957f",
   "metadata": {},
   "outputs": [
    {
     "data": {
      "text/plain": [
       "           foo    key\n",
       "9999  0.272283  10099"
      ]
     },
     "execution_count": 23,
     "metadata": {},
     "output_type": "execute_result"
    }
   ],
   "source": [
    "df[df.key==10099]"
   ]
  },
  {
   "cell_type": "code",
   "execution_count": 25,
   "id": "36b0ade8",
   "metadata": {},
   "outputs": [
    {
     "name": "stdout",
     "output_type": "stream",
     "text": [
      "146 µs ± 1.02 µs per loop (mean ± std. dev. of 7 runs, 10,000 loops each)\n"
     ]
    }
   ],
   "source": [
    "%timeit df[df.key==10099]\n",
    "#숫자는 환경에 따라 다를 수 있음"
   ]
  },
  {
   "cell_type": "code",
   "execution_count": 27,
   "id": "a469f986",
   "metadata": {},
   "outputs": [
    {
     "data": {
      "text/plain": [
       "          foo\n",
       "key          \n",
       "100  0.126970\n",
       "101  0.966718\n",
       "102  0.260476\n",
       "103  0.897237\n",
       "104  0.376750"
      ]
     },
     "execution_count": 27,
     "metadata": {},
     "output_type": "execute_result"
    }
   ],
   "source": [
    "df_with_index = df.s et_index(['key'])\n",
    "df_with_index[:5]"
   ]
  },
  {
   "cell_type": "code",
   "execution_count": 28,
   "id": "a80b4ab3",
   "metadata": {},
   "outputs": [
    {
     "data": {
      "text/plain": [
       "foo    0.272283\n",
       "Name: 10099, dtype: float64"
      ]
     },
     "execution_count": 28,
     "metadata": {},
     "output_type": "execute_result"
    }
   ],
   "source": [
    "df_with_index.loc[10099]\n",
    "#처리 속도가 차이 남"
   ]
  },
  {
   "cell_type": "code",
   "execution_count": 29,
   "id": "783da815",
   "metadata": {},
   "outputs": [
    {
     "name": "stdout",
     "output_type": "stream",
     "text": [
      "33.6 µs ± 287 ns per loop (mean ± std. dev. of 7 runs, 10,000 loops each)\n"
     ]
    }
   ],
   "source": [
    "%timeit df_with_index.loc[10099]"
   ]
  },
  {
   "cell_type": "code",
   "execution_count": 30,
   "id": "1e585b05",
   "metadata": {},
   "outputs": [
    {
     "data": {
      "text/plain": [
       "          foo\n",
       "key          \n",
       "100  0.126970\n",
       "101  0.966718\n",
       "102  0.260476\n",
       "103  0.897237\n",
       "104  0.376750"
      ]
     },
     "execution_count": 30,
     "metadata": {},
     "output_type": "execute_result"
    }
   ],
   "source": [
    "df_with_index = df.set_index(['key'])\n",
    "df_with_index[:5]"
   ]
  },
  {
   "cell_type": "code",
   "execution_count": 31,
   "id": "04e8f07d",
   "metadata": {},
   "outputs": [
    {
     "data": {
      "text/plain": [
       "foo    0.272283\n",
       "Name: 10099, dtype: float64"
      ]
     },
     "execution_count": 31,
     "metadata": {},
     "output_type": "execute_result"
    }
   ],
   "source": [
    "df_with_index.loc[10099]"
   ]
  },
  {
   "cell_type": "code",
   "execution_count": 32,
   "id": "b30d1188",
   "metadata": {},
   "outputs": [
    {
     "name": "stdout",
     "output_type": "stream",
     "text": [
      "33.2 µs ± 382 ns per loop (mean ± std. dev. of 7 runs, 10,000 loops each)\n"
     ]
    }
   ],
   "source": [
    "%timeit df_with_index.loc[10099]"
   ]
  }
 ],
 "metadata": {
  "kernelspec": {
   "display_name": "Python 3 (ipykernel)",
   "language": "python",
   "name": "python3"
  },
  "language_info": {
   "codemirror_mode": {
    "name": "ipython",
    "version": 3
   },
   "file_extension": ".py",
   "mimetype": "text/x-python",
   "name": "python",
   "nbconvert_exporter": "python",
   "pygments_lexer": "ipython3",
   "version": "3.9.12"
  }
 },
 "nbformat": 4,
 "nbformat_minor": 5
}
